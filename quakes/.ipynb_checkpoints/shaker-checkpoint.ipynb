{
 "cells": [
  {
   "cell_type": "markdown",
   "metadata": {},
   "source": [
    "This notebook allows one to explore relationships between solar bodies and the roles they play (if any) on\n",
    "the magnitude and occurrence of earthquakes >= 5.5. I am new to Python and Machine & Deep Learning.  This is by no\n",
    "means complete.  I plan to introduce sea level data and angular velocity over time.  I would like to try some linear regression on coordinates and magnitude labels as well.  \n",
    "Feedback is greatly appreciated!\n",
    "        "
   ]
  },
  {
   "cell_type": "markdown",
   "metadata": {},
   "source": [
    "Sources:\n",
    "\n",
    "Ide, Satoshi; Yabe, Suguru; Tanaka, Yoshiyuki (2016). \"Earthquake potential revealed by tidal influence on earthquake size–frequency statistics\". Nature Geoscience. Bibcode:2016NatGe...9..834I\n",
    "\n",
    "Influences of Solar Cycles on Earthquakes\n",
    "https://www.scirp.org/journal/PaperInformation.aspx?PaperID=5319\n",
    "\n",
    "Astronomical alignments as the cause of ~M6+ seismicity - arXiv\n",
    "https://www.google.com/url?sa=t&rct=j&q=&esrc=s&source=web&cd=9&cad=rja&uact=8&ved=0ahUKEwiSl7zBzKLbAhWK8YMKHa2xB_kQFghmMAg&url=https%3A%2F%2Farxiv.org%2Fpdf%2F1104.2036&usg=AOvVaw1JFKnDtoysiFzubdZUPEGA\n",
    "\n",
    "Solar Flux Data:\n",
    "\n",
    "http://www.spaceweather.gc.ca/solarflux/sx-1-en.php\n",
    "http://www.spaceweather.gc.ca/solarflux/sx-5-en.php"
   ]
  },
  {
   "cell_type": "code",
   "execution_count": null,
   "metadata": {},
   "outputs": [],
   "source": [
    "import pandas as pd\n",
    "import random\n",
    "import sklearn as sk\n",
    "import os\n",
    "import requests\n",
    "import ephem\n",
    "import json\n",
    "from datetime import datetime\n",
    "from sklearn.model_selection import train_test_split\n",
    "from sklearn.pipeline import Pipeline\n",
    "from sklearn.preprocessing import StandardScaler\n",
    "from bokeh.palettes import Viridis3, Viridis256,Magma256,Inferno256,Inferno,Category20_20\n",
    "from sklearn.metrics import mean_absolute_error\n",
    "import numpy as np\n",
    "import bokeh.plotting as bkp\n",
    "from bokeh.tile_providers import CARTODBPOSITRON\n",
    "from bokeh.plotting import figure \n",
    "from bokeh.io import output_notebook,output_file,show\n",
    "import bokeh.models as bkm\n",
    "from bokeh.layouts import gridplot\n",
    "from bokeh.models import (\n",
    "    ColumnDataSource,\n",
    "    GeoJSONDataSource,\n",
    "    LinearColorMapper,\n",
    "    LogColorMapper,\n",
    "    ColorBar,\n",
    "    HoverTool,\n",
    "    CrosshairTool,\n",
    "    LinearAxis,\n",
    "    Range1d,\n",
    ")\n",
    "output_notebook()"
   ]
  },
  {
   "cell_type": "code",
   "execution_count": null,
   "metadata": {},
   "outputs": [],
   "source": [
    "# Use ephem to get the distance in AU from earth to the moon on a given date.\n",
    "# 1 AU = 150 million kilometers (93 million miles)\n",
    "def moondist(s):\n",
    "    dt = s\n",
    "    n = ephem.Moon(dt)\n",
    "    r = n.earth_distance\n",
    "    return r\n",
    "# Use ephem to get the Distance in AU from earth to Jupiter on a given date.\n",
    "def jupiterdist(s):\n",
    "    dt = s\n",
    "    j = ephem.Jupiter(dt)\n",
    "    r = j.earth_distance\n",
    "    return r\n",
    "# Use ephem to get the seperation in radians between the moon to Jupiter on a given date.\n",
    "def jupitersep(s):\n",
    "    dt = s\n",
    "    j = ephem.Jupiter(dt)\n",
    "    n = ephem.Moon(dt)\n",
    "    r = ephem.separation(j, n)\n",
    "    return r\n"
   ]
  },
  {
   "cell_type": "code",
   "execution_count": null,
   "metadata": {},
   "outputs": [],
   "source": [
    "np.random.seed(42)\n",
    "# List the files\n",
    "print(os.listdir(\"./input\"))"
   ]
  },
  {
   "cell_type": "code",
   "execution_count": null,
   "metadata": {},
   "outputs": [],
   "source": [
    "# Loade kaggle quake data into Pandas Dataframe\n",
    "quake = pd.read_csv(\"./input/database.csv\",parse_dates=['Date'])"
   ]
  },
  {
   "cell_type": "code",
   "execution_count": null,
   "metadata": {},
   "outputs": [],
   "source": [
    "# Load NRC 10.7cm Solar Flux solar activity index into Pandas Dataframe.\n",
    "solar = pd.read_csv(\"./input/solflux_monthly_average.txt\",header=1,delim_whitespace=True,parse_dates = [['Year','Mon']])"
   ]
  },
  {
   "cell_type": "code",
   "execution_count": null,
   "metadata": {},
   "outputs": [],
   "source": [
    "# Rename one column of the DataFrame.\n",
    "solar.rename(columns = {'Year_Mon':'Date'}, inplace = True)"
   ]
  },
  {
   "cell_type": "code",
   "execution_count": null,
   "metadata": {},
   "outputs": [],
   "source": [
    "solar.info()"
   ]
  },
  {
   "cell_type": "code",
   "execution_count": null,
   "metadata": {},
   "outputs": [],
   "source": [
    "quake.info()"
   ]
  },
  {
   "cell_type": "code",
   "execution_count": null,
   "metadata": {},
   "outputs": [],
   "source": [
    "# Break out ['Date'] to Month period.\n",
    "quake['per'] = quake.Date.dt.to_period('M')\n",
    "solar['per'] = solar.Date.dt.to_period('M')"
   ]
  },
  {
   "cell_type": "code",
   "execution_count": null,
   "metadata": {},
   "outputs": [],
   "source": [
    "# perform a left join on Month period.\n",
    "quake = pd.merge(quake, solar, on=['per'], how='left').drop('per', axis=1)"
   ]
  },
  {
   "cell_type": "code",
   "execution_count": null,
   "metadata": {},
   "outputs": [],
   "source": [
    "# preview the first 20 rows of the dataframe\n",
    "quake.head(20)"
   ]
  },
  {
   "cell_type": "code",
   "execution_count": null,
   "metadata": {},
   "outputs": [],
   "source": [
    "quake[\"Type\"].value_counts()"
   ]
  },
  {
   "cell_type": "code",
   "execution_count": null,
   "metadata": {},
   "outputs": [],
   "source": [
    "quake[\"Magnitude Type\"].value_counts()"
   ]
  },
  {
   "cell_type": "code",
   "execution_count": null,
   "metadata": {},
   "outputs": [],
   "source": [
    "quake[\"Magnitude Source\"].value_counts()"
   ]
  },
  {
   "cell_type": "code",
   "execution_count": null,
   "metadata": {},
   "outputs": [],
   "source": [
    "quake[\"Location Source\"].value_counts()"
   ]
  },
  {
   "cell_type": "code",
   "execution_count": null,
   "metadata": {},
   "outputs": [],
   "source": [
    "quake.describe()"
   ]
  },
  {
   "cell_type": "markdown",
   "metadata": {},
   "source": [
    "# Discover and visualize the data to gain insights"
   ]
  },
  {
   "cell_type": "code",
   "execution_count": null,
   "metadata": {},
   "outputs": [],
   "source": [
    "# Augment with addtional astronomical data from ephem.\n",
    "\n",
    "# Distance in Astronomical Units from earth to the moon at a given date.\n",
    "quake['moondist'] = quake['Date_x'].apply(moondist)\n",
    "# Distance of Jupiter from earth at a given Date\n",
    "quake['jupiterdist'] = quake['Date_x'].apply(jupiterdist)\n",
    "quake['jupitersep'] = quake['Date_x'].apply(jupitersep)\n"
   ]
  },
  {
   "cell_type": "code",
   "execution_count": null,
   "metadata": {},
   "outputs": [],
   "source": [
    "# Define Multiple y Labels grouped by Year. Mainly used for plotting\n",
    "quake['yr'] = quake.Date_x.dt.year\n",
    "grouped = quake.groupby(\"yr\")\n",
    "emag = grouped[\"Magnitude\"]\n",
    "avg = emag.mean()\n",
    "std = emag.std()\n",
    "maxmag = emag.max()\n",
    "solarf = grouped[\"Adjflux\"]\n",
    "solarfmax = solarf.max()\n",
    "moond = grouped[\"moondist\"]\n",
    "moonjup = grouped[\"jupitersep\"]\n",
    "moonjup_min = moonjup.min()\n",
    "moond_avg = moond.mean()\n",
    "moond_std = moond.std()\n",
    "moond_min = moond.min()\n",
    "jupd = grouped[\"jupiterdist\"]\n",
    "jupiter_avg = jupd.mean()\n",
    "jupiter_std = jupd.std()\n",
    "jupiter_min = jupd.min()\n",
    "years = list(grouped.groups.keys())\n"
   ]
  },
  {
   "cell_type": "code",
   "execution_count": null,
   "metadata": {
    "scrolled": true
   },
   "outputs": [],
   "source": [
    "# Plot Magnitude and standard deviation using bokeh.\n",
    "source = ColumnDataSource(quake)\n",
    "# Set up the Plot\n",
    "p = figure(title=\"World Wide Earthquakes, magnitude >= 5.5\",width=600, height=600,)\n",
    "# Set up vert bars to denote std dev per year.\n",
    "p.vbar(x=years, bottom=avg-std, top=avg+std, width=0.8, \n",
    "       fill_alpha=0.3, line_color=None, legend=\"Magnitude stddev\")\n",
    "# Set up to plot all 5.5 mag earthquakes and above per year.\n",
    "p.circle(x=\"yr\", y=\"Magnitude\", size=5, alpha=0.5,\n",
    "         color=\"firebrick\",source=source)\n",
    "p.legend.location = \"top_left\"\n",
    "show(p)"
   ]
  },
  {
   "cell_type": "code",
   "execution_count": null,
   "metadata": {},
   "outputs": [],
   "source": [
    "# Get World Map Geo file for Bokeh Plotting\n",
    "countries = requests.get('https://rawgit.com/johan/world.geo.json/master/countries.geo.json').json()\n",
    "with open('./input/countries.geo.json', 'w') as fp:\n",
    "    json.dump(countries, fp, sort_keys=True, indent=4)"
   ]
  },
  {
   "cell_type": "code",
   "execution_count": null,
   "metadata": {},
   "outputs": [],
   "source": [
    "# Inter active map with zoom, pan, and hover info for scatter markers. \n",
    "\n",
    "source = ColumnDataSource(quake)\n",
    "# Define what tools to include in the toolbar.\n",
    "tools = \"pan,wheel_zoom,box_zoom,reset,previewsave,hover,crosshair\"\n",
    "# Open The Json World Map coordinates downloaded earlier to ./input\n",
    "with open(\"./input/countries.geo.json\", \"r\") as f:\n",
    "    countries = bkm.GeoJSONDataSource(geojson=f.read())\n",
    "# Set Up the Plot\n",
    "p = bkp.figure(width=975, height=600, toolbar_location=\"above\", title='World Countries',tools=tools, \n",
    "               x_axis_label='Longitude', y_axis_label='Latitude')\n",
    "# Setup the world map\n",
    "p.background_fill_color = \"aqua\"\n",
    "p.x_range = bkm.Range1d(start=-180, end=180)\n",
    "p.y_range = bkm.Range1d(start=-90, end=90)\n",
    "p.patches(\"xs\", \"ys\", color=\"white\", line_color=\"black\", source=countries)\n",
    "# Setup color bar legend and color by magnitude for the actual cirlces.\n",
    "mapper = LinearColorMapper(palette=Category20_20, low=5.5, high=10)\n",
    "color_bar = ColorBar(color_mapper=mapper,label_standoff=3,title='Magnitude',location=(0, 0))\n",
    "# The scatter markers\n",
    "p.circle(\n",
    "        x=\"Longitude\", y=\"Latitude\",\n",
    "        fill_color={'field': 'Magnitude', 'transform': mapper}, size=4, alpha=1, line_color=None,\n",
    "        source=source\n",
    ")\n",
    "# Where do we put the color bar?\n",
    "p.add_layout(color_bar, 'left')\n",
    "# Hovering over scatter marker (circle) will display the following:\n",
    "hover = p.select_one(HoverTool)\n",
    "hover.point_policy = \"follow_mouse\"\n",
    "hover.tooltips = [\n",
    "    (\"Type\", '@Type'),\n",
    "    (\"Year\", '@yr'),\n",
    "    (\"Magnitude\", '@Magnitude'),\n",
    "    (\"Moon Dist.(AU)\", '@moondist'),\n",
    "    (\"Jupitor Dist.(AU)\", '@jupiterdist'),\n",
    "    (\"(x,y)\", \"($x, $y)\")\n",
    "]    \n",
    "show(p)"
   ]
  },
  {
   "cell_type": "code",
   "execution_count": null,
   "metadata": {},
   "outputs": [],
   "source": [
    "# Interactive Grid Plot.  Click on a data point on the MAX Magnitude plot to see the same time frame\n",
    "#  such as solar flux.\n",
    "\n",
    "# Lets give bokeh the defined y data points.\n",
    "source = ColumnDataSource(data=dict(x=years, y1=jupiter_min,y2=moonjup_min,y3=maxmag,y4=solarfmax))\n",
    "# What tools do we want present on the tool bar.\n",
    "TOOLS = \"box_select,lasso_select,hover,reset,help\"\n",
    "# Set up the plot to show the Distance between Jupitor\n",
    "p1 = figure(tools=TOOLS,width=400, plot_height=375,title=\"Jupiter Dist (AU) from Earth\")\n",
    "p1.line('x', 'y1', alpha=0.5,color=\"black\",source=source)\n",
    "p1.circle('x', 'y1', size=7,alpha=0.5,color=\"firebrick\",hover_color=\"red\",source=source)\n",
    "# Set up the plot to show the angular seperation in Radians.\n",
    "p2 = figure(tools=TOOLS,width=400, plot_height=375,title=\"Jupiter/Moon Seperation\")\n",
    "p2.circle('x', 'y2', size=7,alpha=0.5,color=\"green\",hover_color=\"red\",source=source)\n",
    "p2.line('x', 'y2', alpha=0.5,color=\"green\",source=source)\n",
    "# Set up the plot to show Max magnitude per year.\n",
    "p3 = figure(tools=TOOLS,width=400, plot_height=375,title=\"Max Magnitude\")\n",
    "p3.line('x', 'y3', alpha=0.5,color=\"navy\",source=source)\n",
    "p3.circle('x', 'y3', size=7,alpha=0.5,color=\"navy\",hover_color=\"red\",source=source)\n",
    "# Set up the plot to show 10.2cm (2.9Ghz) solar flux\n",
    "p4 = figure(tools=TOOLS,width=400, plot_height=375,title=\"10.2cm Solar Flux\")\n",
    "p4.line('x', 'y4', alpha=0.5,color=\"orange\",source=source)\n",
    "p4.circle('x', 'y4', size=7,alpha=0.5,color=\"navy\",hover_color=\"red\",source=source)\n",
    "# lets plot\n",
    "p = gridplot([[p1, p2], [p3, p4]])\n",
    "show(p)\n"
   ]
  },
  {
   "cell_type": "code",
   "execution_count": null,
   "metadata": {},
   "outputs": [],
   "source": []
  }
 ],
 "metadata": {
  "kernelspec": {
   "display_name": "Python 3",
   "language": "python",
   "name": "python3"
  },
  "language_info": {
   "codemirror_mode": {
    "name": "ipython",
    "version": 3
   },
   "file_extension": ".py",
   "mimetype": "text/x-python",
   "name": "python",
   "nbconvert_exporter": "python",
   "pygments_lexer": "ipython3",
   "version": "3.6.3"
  }
 },
 "nbformat": 4,
 "nbformat_minor": 2
}
